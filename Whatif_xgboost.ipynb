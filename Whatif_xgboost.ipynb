{
  "nbformat": 4,
  "nbformat_minor": 0,
  "metadata": {
    "colab": {
      "name": "Whatif_xgboost.ipynb",
      "provenance": []
    },
    "kernelspec": {
      "name": "python3",
      "display_name": "Python 3"
    }
  },
  "cells": [
    {
      "cell_type": "code",
      "metadata": {
        "id": "SboIq3s_Clfn",
        "colab_type": "code",
        "colab": {}
      },
      "source": [
        "import sys\n",
        "python_version = sys.version_info[0]\n",
        "!pip install --upgrade witwidget\n",
        "!pip install xgboost\n",
        "import pandas as pd\n",
        "import xgboost as xgb\n",
        "import numpy as np\n",
        "import collections\n",
        "import witwidget\n",
        "\n",
        "from sklearn.model_selection import train_test_split\n",
        "from sklearn.metrics import accuracy_score, confusion_matrix\n",
        "from sklearn.utils import shuffle\n",
        "from witwidget.notebook.visualization import WitWidget, WitConfigBuilder"
      ],
      "execution_count": 0,
      "outputs": []
    },
    {
      "cell_type": "code",
      "metadata": {
        "id": "EB3bhSdECwWf",
        "colab_type": "code",
        "colab": {}
      },
      "source": [
        "!gsutil cp gs://mortgage_dataset_files/mortgage-small.csv .\n",
        "# Set column dtypes for Pandas\n",
        "COLUMN_NAMES = collections.OrderedDict({\n",
        "  'as_of_year': np.int16,\n",
        "  'agency_code': 'category',\n",
        "  'loan_type': 'category',\n",
        "  'property_type': 'category',\n",
        "  'loan_purpose': 'category',\n",
        "  'occupancy': np.int8,\n",
        "  'loan_amt_thousands': np.float64,\n",
        "  'preapproval': 'category',\n",
        "  'county_code': np.float64,\n",
        "  'applicant_income_thousands': np.float64,\n",
        "  'purchaser_type': 'category',\n",
        "  'hoepa_status': 'category',\n",
        "  'lien_status': 'category',\n",
        "  'population': np.float64,\n",
        "  'ffiec_median_fam_income': np.float64,\n",
        "  'tract_to_msa_income_pct': np.float64,\n",
        "  'num_owner_occupied_units': np.float64,\n",
        "  'num_1_to_4_family_units': np.float64,\n",
        "  'approved': np.int8\n",
        "})"
      ],
      "execution_count": 0,
      "outputs": []
    },
    {
      "cell_type": "code",
      "metadata": {
        "id": "w2jzwmtIC0Ua",
        "colab_type": "code",
        "colab": {}
      },
      "source": [
        "# Load data into Pandas\n",
        "data = pd.read_csv(\n",
        "  'mortgage-small.csv', \n",
        "  index_col=False,\n",
        "  dtype=COLUMN_NAMES\n",
        ")\n",
        "data = data.dropna()\n",
        "data = shuffle(data, random_state=2)\n",
        "data.head()"
      ],
      "execution_count": 0,
      "outputs": []
    },
    {
      "cell_type": "code",
      "metadata": {
        "id": "ankajvYwC2dS",
        "colab_type": "code",
        "colab": {}
      },
      "source": [
        "# Label preprocessing\n",
        "labels = data['approved'].values\n",
        "\n",
        "# See the distribution of approved / denied classes (0: denied, 1: approved)\n",
        "print(data['approved'].value_counts())"
      ],
      "execution_count": 0,
      "outputs": []
    },
    {
      "cell_type": "code",
      "metadata": {
        "id": "r8sXVGnBC4VF",
        "colab_type": "code",
        "colab": {}
      },
      "source": [
        "data = data.drop(columns=['approved'])\n",
        "# Convert categorical columns to dummy columns\n",
        "dummy_columns = list(data.dtypes[data.dtypes == 'category'].index)\n",
        "data = pd.get_dummies(data, columns=dummy_columns)\n",
        "data.head()"
      ],
      "execution_count": 0,
      "outputs": []
    },
    {
      "cell_type": "code",
      "metadata": {
        "id": "FAL0MNfjC9kZ",
        "colab_type": "code",
        "colab": {}
      },
      "source": [
        "# Split the data into train / test sets\n",
        "x,y = data,labels\n",
        "x_train,x_test,y_train,y_test = train_test_split(x,y)\n",
        "# Train the model, this will take a few minutes to run\n",
        "bst = xgb.XGBClassifier(\n",
        "    objective='reg:logistic'\n",
        ")\n",
        "\n",
        "bst.fit(x_train, y_train)\n",
        "y_pred = bst.predict(x_test)\n",
        "acc = accuracy_score(y_test, y_pred.round())\n",
        "print(acc, '\\n')"
      ],
      "execution_count": 0,
      "outputs": []
    },
    {
      "cell_type": "code",
      "metadata": {
        "id": "3an5TCkDDCZp",
        "colab_type": "code",
        "colab": {}
      },
      "source": [
        "print('Confusion matrix:')\n",
        "cm = confusion_matrix(y_test, y_pred.round())\n",
        "cm = cm / cm.astype(np.float).sum(axis=1)\n",
        "print(cm)"
      ],
      "execution_count": 0,
      "outputs": []
    },
    {
      "cell_type": "code",
      "metadata": {
        "id": "DQILuessDEIu",
        "colab_type": "code",
        "colab": {}
      },
      "source": [
        "num_wit_examples = 500\n",
        "test_examples = np.hstack((x_test[:num_wit_examples].values,y_test[:num_wit_examples].reshape(-1,1)))\n",
        "test_examples"
      ],
      "execution_count": 0,
      "outputs": []
    },
    {
      "cell_type": "code",
      "metadata": {
        "id": "NXoyFppwDFt0",
        "colab_type": "code",
        "colab": {}
      },
      "source": [
        "def adjust_prediction(x):\n",
        "  pred=bst.predict(x)\n",
        "  return [1 - pred, pred]"
      ],
      "execution_count": 0,
      "outputs": []
    },
    {
      "cell_type": "code",
      "metadata": {
        "id": "xM6WrV9WDGSH",
        "colab_type": "code",
        "colab": {}
      },
      "source": [
        "x_test[1:2]"
      ],
      "execution_count": 0,
      "outputs": []
    },
    {
      "cell_type": "code",
      "metadata": {
        "id": "DeGVzptyDH5z",
        "colab_type": "code",
        "colab": {}
      },
      "source": [
        "x_test[1:2].columns.tolist()"
      ],
      "execution_count": 0,
      "outputs": []
    },
    {
      "cell_type": "code",
      "metadata": {
        "id": "AR8gtDe3DKze",
        "colab_type": "code",
        "colab": {}
      },
      "source": [
        "y=adjust_prediction(x_test[1:2])\n",
        "y"
      ],
      "execution_count": 0,
      "outputs": []
    },
    {
      "cell_type": "code",
      "metadata": {
        "id": "bLf7jH56DNR4",
        "colab_type": "code",
        "colab": {}
      },
      "source": [
        "data.columns.tolist()"
      ],
      "execution_count": 0,
      "outputs": []
    },
    {
      "cell_type": "code",
      "metadata": {
        "id": "L-D_XLInDRyE",
        "colab_type": "code",
        "colab": {}
      },
      "source": [
        "config_builder = (WitConfigBuilder(test_examples.tolist(), data.columns.tolist() + [\"mortgage_status\"])\n",
        "  .set_custom_predict_fn(adjust_prediction)\n",
        "  .set_target_feature('mortgage_status')\n",
        "  .set_label_vocab(['denied', 'approved']))\n",
        "WitWidget(config_builder, height=800)"
      ],
      "execution_count": 0,
      "outputs": []
    }
  ]
}